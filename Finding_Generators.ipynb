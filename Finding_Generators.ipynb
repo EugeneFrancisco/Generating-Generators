{
  "nbformat": 4,
  "nbformat_minor": 0,
  "metadata": {
    "colab": {
      "provenance": [],
      "mount_file_id": "1TiDzzrvHhRGErMmFB8CZ8_Q-z1P133is",
      "authorship_tag": "ABX9TyNhrup4Plbi4XS1X9cYpUub",
      "include_colab_link": true
    },
    "kernelspec": {
      "name": "python3",
      "display_name": "Python 3"
    },
    "language_info": {
      "name": "python"
    }
  },
  "cells": [
    {
      "cell_type": "markdown",
      "metadata": {
        "id": "view-in-github",
        "colab_type": "text"
      },
      "source": [
        "<a href=\"https://colab.research.google.com/github/EugeneFrancisco/Number-Theory-Playground/blob/main/Finding_Generators.ipynb\" target=\"_parent\"><img src=\"https://colab.research.google.com/assets/colab-badge.svg\" alt=\"Open In Colab\"/></a>"
      ]
    },
    {
      "cell_type": "markdown",
      "source": [
        "# Finding generators in $\\mathbb{F}_{p^2}$, where $p$ is a prime.\n",
        "\n",
        "Finding generators in $\\mathbb{F}_{p^2}$ can be challenging; in general finding the order of specific elements in quotient rings is a hard task which, by hand, requires guessing and checking. Here, I've written some functions to check the order of elements in finite fields of size $p^2$.\n",
        "\n",
        "\n",
        "I choose to abstract polynomials as vectors, where a polynomial of degree $d$ is represented by a vector $f$ of size $d+1$ and the $f[i]$ is the coefficient of the term with degree $d-i$. I.e., coefficients go from higher degree to smaller degree."
      ],
      "metadata": {
        "id": "kcglkt-xmHpv"
      }
    },
    {
      "cell_type": "markdown",
      "source": [
        "## Some basic utility for multiplying and adding polynomials in $\\mathbb{F}_{p}[x]$."
      ],
      "metadata": {
        "id": "_7VgNRHVmdaO"
      }
    },
    {
      "cell_type": "code",
      "execution_count": 1,
      "metadata": {
        "id": "rj1s465Glx0w"
      },
      "outputs": [],
      "source": [
        "'''\n",
        "Given product1 and product2 in Fp[x] (as vectors), where p is the base, returns a vector which represents the\n",
        "polynomial product1*product2.\n",
        "\n",
        "product1 & product2 are vectors. For example, the polynomial x^3+x would be represented as [1,0,1,0]\n",
        "\n",
        "The return value is a vector which corresponds to the fully expanded multiplied form of\n",
        "product1 * product2.\n",
        "\n",
        "base is the base of the ring used to form the polynomial.\n",
        "'''\n",
        "def mult(product1, product2, prime):\n",
        "    result = [0]*(len(product1)+len(product2)-1)\n",
        "    for i, term1 in enumerate(product1):\n",
        "        deg1 = len(product1)-1-i\n",
        "        for j, term2 in enumerate(product2):\n",
        "            deg2 = len(product2)-1-j\n",
        "            resultIndex = len(result) - 1 - (deg1+deg2)  #index in the result vector this shows up at\n",
        "            result[resultIndex] += (term1 * term2)\n",
        "            if prime != 0:\n",
        "                result[resultIndex] %= prime\n",
        "\n",
        "    if prime != 0:\n",
        "        for i, term in enumerate(result):\n",
        "            result[i] = term%prime\n",
        "\n",
        "    return result\n",
        "\n",
        "def findInverses(prime):\n",
        "    inverseDictionary = {1:1, prime-1: prime-1}\n",
        "    for i in range(2, prime-1):\n",
        "        # use Fermat's little Theorem\n",
        "        inverseDictionary[i] = (i**(prime-2))%prime\n",
        "    return inverseDictionary\n",
        "\n",
        "'''\n",
        "Returns a trimmed polynomial without the leading zeroes.\n",
        "'''\n",
        "def trimPolynomial(polynomial):\n",
        "    result = []\n",
        "    j = 0\n",
        "    while (j != len(polynomial) and polynomial[j] == 0):\n",
        "        j +=1\n",
        "    return polynomial[j:]\n",
        "\n",
        "'''\n",
        "Given summand1, summand2, and a prime, adds the polynomials (represented as vectors) of\n",
        "summand1 and summand2 together.\n",
        "'''\n",
        "def addPolynomials(summand1, summand2, prime):\n",
        "    if (len(summand1) > len(summand2)):\n",
        "        result = summand1\n",
        "        other = summand2\n",
        "    else:\n",
        "        result = summand2\n",
        "        other = summand1\n",
        "    i = len(result)-1\n",
        "    for term in reversed(other):\n",
        "        # traverse term by term from lowest to highest degree of other\n",
        "        result[i] += term\n",
        "        i-=1\n",
        "\n",
        "    if (prime != 0):\n",
        "        for i in range(len(result)):\n",
        "            result[i] %= prime\n",
        "\n",
        "    result = trimPolynomial(result)\n",
        "    return result"
      ]
    },
    {
      "cell_type": "markdown",
      "source": [
        "## Utility for dividing polynomials in $\\mathbb{F}_p[x]$ and finding residue classes in $\\mathbb{F}_p[x]/(f)$, where $f$ is some irreducible over the polynomial ring."
      ],
      "metadata": {
        "id": "5QAIxvp_qlnU"
      }
    },
    {
      "cell_type": "code",
      "source": [
        "'''\n",
        "Given a tuple of the form (coeff, degree) representing a monomial, converts the monomial into a polynomial\n",
        "vector as used elsewhere\n",
        "'''\n",
        "def tupleToPoly(tuple):\n",
        "    result = [0]*(tuple[1]+1)\n",
        "    result[0] = tuple[0]\n",
        "    return result\n",
        "\n",
        "def deg(polynomial):\n",
        "    return len(polynomial)-1\n",
        "\n",
        "'''\n",
        "Given a dividend and a divisor (both tuples of the form (coeff, degree)) returns the\n",
        "quotient (same form). prime is a prime prime of the ring R.\n",
        "\n",
        "inverses is a list of key value pairs of elements in the ring and their inverses\n",
        "'''\n",
        "def singleTermDivide(dividend, divisor, inverses, prime):\n",
        "    if (divisor[1] > dividend[1]):\n",
        "        raise ValueError(\"The degree of the divisor cannot be greater than the degree of the dividend\")\n",
        "    resultDeg = dividend[1]-divisor[1]\n",
        "    resultCoeff = (dividend[0]*inverses[divisor[0]])%prime\n",
        "    return (resultCoeff, resultDeg)\n",
        "\n",
        "'''\n",
        "Given a dividend and a divisor working in the prime, returns the\n",
        "remainder, quotient where remainder and quotient are polynomials.\n",
        "\n",
        "Recall the \"norm\" of polynomials is their degree. If the dividend has degree n and the\n",
        "divisor has degree d, the quotient has degree n - d and the remainder has degree at most n.\n",
        "'''\n",
        "\n",
        "def findResidue(dividend, divisor, prime):\n",
        "    quotient = [0]*(len(dividend)-len(divisor)+1)\n",
        "    remainder = dividend\n",
        "    leadingDivisorTuple = (divisor[0], deg(divisor))\n",
        "    inverses = findInverses(prime)\n",
        "    while (deg(divisor) <= deg(remainder)):\n",
        "        # 1. Divide first term of remainder by first term of divisor (call this q_i)\n",
        "        leadingRemainderTuple = (remainder[0], deg(remainder))\n",
        "        firstQuotient = singleTermDivide(leadingRemainderTuple, leadingDivisorTuple, inverses, prime)\n",
        "        # 2. Add this term to the quotient\n",
        "        quotient[len(quotient)-firstQuotient[1]-1] = firstQuotient[0]\n",
        "        # 3. Multiply q_i by the divisor and then subtract that from the remainder.\n",
        "        subtractPoly = mult(divisor, tupleToPoly((firstQuotient[0]*-1, firstQuotient[1])), prime)\n",
        "        # 4. The result is now the new remainder and repeat.\n",
        "        remainder = addPolynomials(subtractPoly, remainder, prime)\n",
        "\n",
        "    return remainder, quotient\n",
        "\n"
      ],
      "metadata": {
        "id": "aDTORCKJquNr"
      },
      "execution_count": 10,
      "outputs": []
    },
    {
      "cell_type": "markdown",
      "source": [
        "## Putting it together.\n",
        "\n",
        "Implementing the above utility to actually create some finite fields and find the order of certain elements."
      ],
      "metadata": {
        "id": "MpEayQtDrHvm"
      }
    },
    {
      "cell_type": "code",
      "source": [
        "'''\n",
        "Given a prime p and an irreducible f over Fp, populates a dictionary with the list of\n",
        "elements generated by each polynomial in the form\n",
        "\n",
        "element: poly1, poly2, ... 1\n",
        "\n",
        "The order of an element is then just the number of elements in that element's list (the element's coset)\n",
        "\n",
        "*Note, the key's of the dictionary are tuples, not lists*\n",
        "'''\n",
        "\n",
        "def findOrders(prime, irreducible):\n",
        "\n",
        "    cosetDictionary = {}\n",
        "\n",
        "    # The number of coefficients of elements in the quotient ring is just the degree of the quotient ring\n",
        "    numCoefficients = deg(irreducible)\n",
        "    findOrdersRec([], numCoefficients, prime, cosetDictionary, irreducible)\n",
        "    return cosetDictionary\n",
        "\n",
        "'''\n",
        "Recursive helper to create all possible combinations of polynomials\n",
        "'''\n",
        "def findOrdersRec(coeffList, howManyMore, prime, cosetDictionary, irreducible):\n",
        "    if (howManyMore == 0):\n",
        "        coeffListCopy = trimPolynomial(coeffList)\n",
        "        if (len(coeffListCopy) == 0):\n",
        "            return\n",
        "\n",
        "        # Need to use hashable type for the dictionary.\n",
        "        coeffListTuple = tuple(coeffListCopy)\n",
        "        cosetDictionary[coeffListTuple] = findCoset(prime, irreducible, coeffListCopy)\n",
        "        return\n",
        "\n",
        "    for coeff in range(prime):\n",
        "        coeffList.append(coeff)\n",
        "        findOrdersRec(coeffList, howManyMore-1, prime, cosetDictionary, irreducible)\n",
        "        coeffList.pop()\n",
        "\n",
        "def findCoset(prime, irreducible, element):\n",
        "    cosetList = [1]\n",
        "    result = trimPolynomial(element)\n",
        "    while (result != [1]):\n",
        "        cosetList.append(result)\n",
        "        result = mult(result, element, prime)\n",
        "        result = findResidue(result, irreducible, prime)[0]\n",
        "\n",
        "    return cosetList\n"
      ],
      "metadata": {
        "id": "VeY2nliyrnmb"
      },
      "execution_count": 2,
      "outputs": []
    },
    {
      "cell_type": "markdown",
      "source": [
        "# Try it!\n",
        "\n",
        "As an example, in $\\mathbb{F}_5[x]$ an irreducible polynomial is $x^2+2$ and a generator of $\\mathbb{F}_5[x]/(x^2+2)$ is $x+1$."
      ],
      "metadata": {
        "id": "EJ61exAbtQaM"
      }
    },
    {
      "cell_type": "code",
      "source": [
        "prime = input(\"Choose a prime p: \")\n",
        "irreducibleTxt = input(\"Choose an irreducible in Fp[x]. List the coefficients one by one, seperated by commas: \")\n",
        "irreducible = irreducibleTxt.split(\",\")\n",
        "irreducible = [int(x) for x in irreducible]\n",
        "\n",
        "print(irreducible)\n",
        "cosetDictionary = findOrders(5, irreducible)\n",
        "\n",
        "for poly in cosetDictionary:\n",
        "    print(\"Polynomial: \", poly, \"\\nOrder: \", len(cosetDictionary[poly]), \"\\n\")"
      ],
      "metadata": {
        "id": "Wv_2ZouttKdq"
      },
      "execution_count": null,
      "outputs": []
    },
    {
      "cell_type": "code",
      "source": [],
      "metadata": {
        "id": "cByo3zsOt-4A"
      },
      "execution_count": null,
      "outputs": []
    }
  ]
}